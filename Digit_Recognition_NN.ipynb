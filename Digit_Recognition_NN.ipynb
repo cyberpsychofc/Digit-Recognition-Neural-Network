{
  "cells": [
    {
      "cell_type": "code",
      "execution_count": 1,
      "metadata": {
        "_cell_guid": "b1076dfc-b9ad-4769-8c92-a6c4dae69d19",
        "_uuid": "8f2839f25d086af736a60e9eeb907d3b93b6e0e5",
        "execution": {
          "iopub.execute_input": "2020-11-24T15:33:44.617819Z",
          "iopub.status.busy": "2020-11-24T15:33:44.616734Z",
          "iopub.status.idle": "2020-11-24T15:33:48.545917Z",
          "shell.execute_reply": "2020-11-24T15:33:48.545192Z"
        },
        "papermill": {
          "duration": 3.947576,
          "end_time": "2020-11-24T15:33:48.546057",
          "exception": false,
          "start_time": "2020-11-24T15:33:44.598481",
          "status": "completed"
        },
        "tags": [],
        "id": "9AmWf5RxAqVk"
      },
      "outputs": [],
      "source": [
        "import numpy as np\n",
        "import pandas as pd\n",
        "from matplotlib import pyplot as plt\n",
        "\n",
        "data = pd.read_csv('train.csv')"
      ]
    },
    {
      "cell_type": "code",
      "execution_count": 2,
      "metadata": {
        "execution": {
          "iopub.execute_input": "2020-11-24T15:33:48.577955Z",
          "iopub.status.busy": "2020-11-24T15:33:48.576778Z",
          "iopub.status.idle": "2020-11-24T15:33:49.353469Z",
          "shell.execute_reply": "2020-11-24T15:33:49.352724Z"
        },
        "papermill": {
          "duration": 0.795759,
          "end_time": "2020-11-24T15:33:49.353603",
          "exception": false,
          "start_time": "2020-11-24T15:33:48.557844",
          "status": "completed"
        },
        "tags": [],
        "id": "waMfO4SZAqVk"
      },
      "outputs": [],
      "source": [
        "data = np.array(data)\n",
        "m, n = data.shape\n",
        "np.random.shuffle(data) # shuffle before splitting into dev and training sets\n",
        "\n",
        "data_dev = data[0:1000].T\n",
        "Y_dev = data_dev[0]\n",
        "X_dev = data_dev[1:n]\n",
        "X_dev = X_dev / 255.\n",
        "\n",
        "data_train = data[1000:m].T\n",
        "Y_train = data_train[0]\n",
        "X_train = data_train[1:n]\n",
        "X_train = X_train / 255.\n",
        "_,m_train = X_train.shape"
      ]
    },
    {
      "cell_type": "code",
      "execution_count": 3,
      "metadata": {
        "execution": {
          "iopub.execute_input": "2020-11-24T15:33:49.385574Z",
          "iopub.status.busy": "2020-11-24T15:33:49.384483Z",
          "iopub.status.idle": "2020-11-24T15:33:49.388342Z",
          "shell.execute_reply": "2020-11-24T15:33:49.388923Z"
        },
        "papermill": {
          "duration": 0.023743,
          "end_time": "2020-11-24T15:33:49.389054",
          "exception": false,
          "start_time": "2020-11-24T15:33:49.365311",
          "status": "completed"
        },
        "tags": [],
        "colab": {
          "base_uri": "https://localhost:8080/"
        },
        "id": "kcnvmXIfAqVl",
        "outputId": "a305f0a5-4799-4693-bdb0-1ae1e9e8a977"
      },
      "outputs": [
        {
          "output_type": "execute_result",
          "data": {
            "text/plain": [
              "array([8., 8., 2., ..., 0., 7., 2.])"
            ]
          },
          "metadata": {},
          "execution_count": 3
        }
      ],
      "source": [
        "Y_train"
      ]
    },
    {
      "cell_type": "markdown",
      "metadata": {
        "papermill": {
          "duration": 0.011724,
          "end_time": "2020-11-24T15:33:49.413261",
          "exception": false,
          "start_time": "2020-11-24T15:33:49.401537",
          "status": "completed"
        },
        "tags": [],
        "id": "V8W17QsvAqVl"
      },
      "source": [
        "Our NN will have a simple two-layer architecture. Input layer $a^{[0]}$ will have 784 units corresponding to the 784 pixels in each 28x28 input image. A hidden layer $a^{[1]}$ will have 10 units with ReLU activation, and finally our output layer $a^{[2]}$ will have 10 units corresponding to the ten digit classes with softmax activation.\n",
        "\n",
        "**Forward propagation**\n",
        "\n",
        "$$Z^{[1]} = W^{[1]} X + b^{[1]}$$\n",
        "$$A^{[1]} = g_{\\text{ReLU}}(Z^{[1]}))$$\n",
        "$$Z^{[2]} = W^{[2]} A^{[1]} + b^{[2]}$$\n",
        "$$A^{[2]} = g_{\\text{softmax}}(Z^{[2]})$$\n",
        "\n",
        "**Backward propagation**\n",
        "\n",
        "$$dZ^{[2]} = A^{[2]} - Y$$\n",
        "$$dW^{[2]} = \\frac{1}{m} dZ^{[2]} A^{[1]T}$$\n",
        "$$dB^{[2]} = \\frac{1}{m} \\Sigma {dZ^{[2]}}$$\n",
        "$$dZ^{[1]} = W^{[2]T} dZ^{[2]} .* g^{[1]\\prime} (z^{[1]})$$\n",
        "$$dW^{[1]} = \\frac{1}{m} dZ^{[1]} A^{[0]T}$$\n",
        "$$dB^{[1]} = \\frac{1}{m} \\Sigma {dZ^{[1]}}$$\n",
        "\n",
        "**Parameter updates**\n",
        "\n",
        "$$W^{[2]} := W^{[2]} - \\alpha dW^{[2]}$$\n",
        "$$b^{[2]} := b^{[2]} - \\alpha db^{[2]}$$\n",
        "$$W^{[1]} := W^{[1]} - \\alpha dW^{[1]}$$\n",
        "$$b^{[1]} := b^{[1]} - \\alpha db^{[1]}$$\n",
        "\n",
        "**Vars and shapes**\n",
        "\n",
        "Forward prop\n",
        "\n",
        "- $A^{[0]} = X$: 784 x m\n",
        "- $Z^{[1]} \\sim A^{[1]}$: 10 x m\n",
        "- $W^{[1]}$: 10 x 784 (as $W^{[1]} A^{[0]} \\sim Z^{[1]}$)\n",
        "- $B^{[1]}$: 10 x 1\n",
        "- $Z^{[2]} \\sim A^{[2]}$: 10 x m\n",
        "- $W^{[1]}$: 10 x 10 (as $W^{[2]} A^{[1]} \\sim Z^{[2]}$)\n",
        "- $B^{[2]}$: 10 x 1\n",
        "\n",
        "Backprop\n",
        "\n",
        "- $dZ^{[2]}$: 10 x m ($~A^{[2]}$)\n",
        "- $dW^{[2]}$: 10 x 10\n",
        "- $dB^{[2]}$: 10 x 1\n",
        "- $dZ^{[1]}$: 10 x m ($~A^{[1]}$)\n",
        "- $dW^{[1]}$: 10 x 10\n",
        "- $dB^{[1]}$: 10 x 1"
      ]
    },
    {
      "cell_type": "code",
      "execution_count": 15,
      "metadata": {
        "execution": {
          "iopub.execute_input": "2020-11-24T15:33:49.458553Z",
          "iopub.status.busy": "2020-11-24T15:33:49.457534Z",
          "iopub.status.idle": "2020-11-24T15:33:49.460243Z",
          "shell.execute_reply": "2020-11-24T15:33:49.460754Z"
        },
        "papermill": {
          "duration": 0.035762,
          "end_time": "2020-11-24T15:33:49.460906",
          "exception": false,
          "start_time": "2020-11-24T15:33:49.425144",
          "status": "completed"
        },
        "tags": [],
        "id": "V_rlWTqWAqVl"
      },
      "outputs": [],
      "source": [
        "def init_params():\n",
        "    W1 = np.random.rand(10, 784) - 0.5\n",
        "    b1 = np.random.rand(10, 1) - 0.5\n",
        "    W2 = np.random.rand(10, 10) - 0.5\n",
        "    b2 = np.random.rand(10, 1) - 0.5\n",
        "    return W1, b1, W2, b2\n",
        "\n",
        "def ReLU(Z):\n",
        "    return np.maximum(Z, 0)\n",
        "\n",
        "def softmax(Z):\n",
        "    A = np.exp(Z) / sum(np.exp(Z))\n",
        "    return A\n",
        "\n",
        "def forward_prop(W1, b1, W2, b2, X):\n",
        "    Z1 = W1.dot(X) + b1\n",
        "    A1 = ReLU(Z1)\n",
        "    Z2 = W2.dot(A1) + b2\n",
        "    A2 = softmax(Z2)\n",
        "    return Z1, A1, Z2, A2\n",
        "\n",
        "def ReLU_deriv(Z):\n",
        "    return Z > 0\n",
        "\n",
        "def one_hot(Y):\n",
        "    Y = Y.astype(int)\n",
        "    num_classes = Y.max() + 1\n",
        "    one_hot_Y = np.zeros((Y.size, num_classes), dtype=int)\n",
        "    one_hot_Y[np.arange(Y.size), Y] = 1\n",
        "\n",
        "    return one_hot_Y\n",
        "\n",
        "def backward_prop(Z1, A1, Z2, A2, W1, W2, X, Y):\n",
        "    one_hot_Y = one_hot(Y).T\n",
        "    dZ2 = A2 - one_hot_Y\n",
        "    dW2 = 1 / m * dZ2.dot(A1.T)\n",
        "    db2 = 1 / m * np.sum(dZ2)\n",
        "    dZ1 = W2.T.dot(dZ2) * ReLU_deriv(Z1)\n",
        "    dW1 = 1 / m * dZ1.dot(X.T)\n",
        "    db1 = 1 / m * np.sum(dZ1)\n",
        "    return dW1, db1, dW2, db2\n",
        "\n",
        "def update_params(W1, b1, W2, b2, dW1, db1, dW2, db2, alpha):\n",
        "    W1 = W1 - alpha * dW1\n",
        "    b1 = b1 - alpha * db1\n",
        "    W2 = W2 - alpha * dW2\n",
        "    b2 = b2 - alpha * db2\n",
        "    return W1, b1, W2, b2"
      ]
    },
    {
      "cell_type": "code",
      "execution_count": 13,
      "metadata": {
        "execution": {
          "iopub.execute_input": "2020-11-24T15:33:49.496820Z",
          "iopub.status.busy": "2020-11-24T15:33:49.493109Z",
          "iopub.status.idle": "2020-11-24T15:33:49.499268Z",
          "shell.execute_reply": "2020-11-24T15:33:49.499782Z"
        },
        "papermill": {
          "duration": 0.026744,
          "end_time": "2020-11-24T15:33:49.499906",
          "exception": false,
          "start_time": "2020-11-24T15:33:49.473162",
          "status": "completed"
        },
        "tags": [],
        "id": "AUpPVkIPAqVm"
      },
      "outputs": [],
      "source": [
        "def get_predictions(A2):\n",
        "    return np.argmax(A2, 0)\n",
        "\n",
        "def get_accuracy(predictions, Y):\n",
        "    print(predictions, Y)\n",
        "    return np.sum(predictions == Y) / Y.size\n",
        "\n",
        "def gradient_descent(X, Y, alpha, iterations):\n",
        "    W1, b1, W2, b2 = init_params()\n",
        "    for i in range(iterations):\n",
        "        Z1, A1, Z2, A2 = forward_prop(W1, b1, W2, b2, X)\n",
        "        dW1, db1, dW2, db2 = backward_prop(Z1, A1, Z2, A2, W1, W2, X, Y)\n",
        "        W1, b1, W2, b2 = update_params(W1, b1, W2, b2, dW1, db1, dW2, db2, alpha)\n",
        "        if i % 10 == 0:\n",
        "            print(\"Iteration: \", i)\n",
        "            predictions = get_predictions(A2)\n",
        "            print(get_accuracy(predictions, Y))\n",
        "    return W1, b1, W2, b2"
      ]
    },
    {
      "cell_type": "code",
      "execution_count": 17,
      "metadata": {
        "execution": {
          "iopub.execute_input": "2020-11-24T15:33:49.529813Z",
          "iopub.status.busy": "2020-11-24T15:33:49.529067Z",
          "iopub.status.idle": "2020-11-24T15:34:33.915250Z",
          "shell.execute_reply": "2020-11-24T15:34:33.914598Z"
        },
        "papermill": {
          "duration": 44.403186,
          "end_time": "2020-11-24T15:34:33.915380",
          "exception": false,
          "start_time": "2020-11-24T15:33:49.512194",
          "status": "completed"
        },
        "tags": [],
        "colab": {
          "base_uri": "https://localhost:8080/"
        },
        "id": "TvKuCH5kAqVm",
        "outputId": "c5814dee-12bd-49df-db75-9b7da45166e8"
      },
      "outputs": [
        {
          "output_type": "stream",
          "name": "stdout",
          "text": [
            "Iteration:  0\n",
            "[1 1 1 ... 7 7 1] [8. 8. 2. ... 0. 7. 2.]\n",
            "0.13333333333333333\n",
            "Iteration:  10\n",
            "[1 1 6 ... 4 0 9] [8. 8. 2. ... 0. 7. 2.]\n",
            "0.17209302325581396\n",
            "Iteration:  20\n",
            "[1 1 6 ... 4 0 9] [8. 8. 2. ... 0. 7. 2.]\n",
            "0.21085271317829457\n",
            "Iteration:  30\n",
            "[1 8 6 ... 4 0 9] [8. 8. 2. ... 0. 7. 2.]\n",
            "0.26976744186046514\n",
            "Iteration:  40\n",
            "[1 8 2 ... 0 0 1] [8. 8. 2. ... 0. 7. 2.]\n",
            "0.3178294573643411\n",
            "Iteration:  50\n",
            "[8 8 2 ... 0 0 8] [8. 8. 2. ... 0. 7. 2.]\n",
            "0.3612403100775194\n",
            "Iteration:  60\n",
            "[8 8 2 ... 0 0 8] [8. 8. 2. ... 0. 7. 2.]\n",
            "0.3922480620155039\n",
            "Iteration:  70\n",
            "[8 8 2 ... 0 0 8] [8. 8. 2. ... 0. 7. 2.]\n",
            "0.41550387596899224\n",
            "Iteration:  80\n",
            "[8 8 2 ... 0 0 2] [8. 8. 2. ... 0. 7. 2.]\n",
            "0.4511627906976744\n",
            "Iteration:  90\n",
            "[8 8 2 ... 0 0 2] [8. 8. 2. ... 0. 7. 2.]\n",
            "0.4806201550387597\n",
            "Iteration:  100\n",
            "[8 9 2 ... 0 0 2] [8. 8. 2. ... 0. 7. 2.]\n",
            "0.5077519379844961\n",
            "Iteration:  110\n",
            "[8 9 2 ... 0 0 2] [8. 8. 2. ... 0. 7. 2.]\n",
            "0.5426356589147286\n",
            "Iteration:  120\n",
            "[1 9 2 ... 0 7 2] [8. 8. 2. ... 0. 7. 2.]\n",
            "0.5705426356589147\n",
            "Iteration:  130\n",
            "[1 9 2 ... 0 7 2] [8. 8. 2. ... 0. 7. 2.]\n",
            "0.5937984496124031\n",
            "Iteration:  140\n",
            "[1 9 2 ... 0 7 2] [8. 8. 2. ... 0. 7. 2.]\n",
            "0.6124031007751938\n",
            "Iteration:  150\n",
            "[1 9 2 ... 0 7 2] [8. 8. 2. ... 0. 7. 2.]\n",
            "0.6294573643410852\n",
            "Iteration:  160\n",
            "[1 9 2 ... 0 7 2] [8. 8. 2. ... 0. 7. 2.]\n",
            "0.6465116279069767\n",
            "Iteration:  170\n",
            "[8 9 2 ... 0 7 2] [8. 8. 2. ... 0. 7. 2.]\n",
            "0.6627906976744186\n",
            "Iteration:  180\n",
            "[8 9 2 ... 0 7 2] [8. 8. 2. ... 0. 7. 2.]\n",
            "0.6713178294573643\n",
            "Iteration:  190\n",
            "[8 9 2 ... 0 7 2] [8. 8. 2. ... 0. 7. 2.]\n",
            "0.6806201550387597\n",
            "Iteration:  200\n",
            "[8 9 2 ... 0 7 2] [8. 8. 2. ... 0. 7. 2.]\n",
            "0.6914728682170542\n",
            "Iteration:  210\n",
            "[8 9 2 ... 0 7 2] [8. 8. 2. ... 0. 7. 2.]\n",
            "0.7\n",
            "Iteration:  220\n",
            "[8 9 2 ... 0 7 2] [8. 8. 2. ... 0. 7. 2.]\n",
            "0.7093023255813954\n",
            "Iteration:  230\n",
            "[8 9 2 ... 0 7 2] [8. 8. 2. ... 0. 7. 2.]\n",
            "0.7170542635658915\n",
            "Iteration:  240\n",
            "[8 9 2 ... 0 7 2] [8. 8. 2. ... 0. 7. 2.]\n",
            "0.7286821705426356\n",
            "Iteration:  250\n",
            "[8 9 2 ... 0 7 2] [8. 8. 2. ... 0. 7. 2.]\n",
            "0.7372093023255814\n",
            "Iteration:  260\n",
            "[8 9 2 ... 0 7 2] [8. 8. 2. ... 0. 7. 2.]\n",
            "0.7449612403100775\n",
            "Iteration:  270\n",
            "[8 9 2 ... 0 7 2] [8. 8. 2. ... 0. 7. 2.]\n",
            "0.7511627906976744\n",
            "Iteration:  280\n",
            "[8 9 2 ... 0 7 2] [8. 8. 2. ... 0. 7. 2.]\n",
            "0.7558139534883721\n",
            "Iteration:  290\n",
            "[8 9 2 ... 0 7 2] [8. 8. 2. ... 0. 7. 2.]\n",
            "0.7604651162790698\n",
            "Iteration:  300\n",
            "[8 9 2 ... 0 7 2] [8. 8. 2. ... 0. 7. 2.]\n",
            "0.7651162790697674\n",
            "Iteration:  310\n",
            "[8 9 2 ... 0 7 2] [8. 8. 2. ... 0. 7. 2.]\n",
            "0.7705426356589147\n",
            "Iteration:  320\n",
            "[8 9 2 ... 0 7 2] [8. 8. 2. ... 0. 7. 2.]\n",
            "0.7798449612403101\n",
            "Iteration:  330\n",
            "[8 9 2 ... 0 7 2] [8. 8. 2. ... 0. 7. 2.]\n",
            "0.7829457364341085\n",
            "Iteration:  340\n",
            "[8 9 2 ... 0 7 2] [8. 8. 2. ... 0. 7. 2.]\n",
            "0.789922480620155\n",
            "Iteration:  350\n",
            "[8 9 2 ... 0 7 2] [8. 8. 2. ... 0. 7. 2.]\n",
            "0.7976744186046512\n",
            "Iteration:  360\n",
            "[8 9 2 ... 0 7 2] [8. 8. 2. ... 0. 7. 2.]\n",
            "0.7992248062015503\n",
            "Iteration:  370\n",
            "[8 9 2 ... 0 7 2] [8. 8. 2. ... 0. 7. 2.]\n",
            "0.8023255813953488\n",
            "Iteration:  380\n",
            "[8 9 2 ... 0 7 2] [8. 8. 2. ... 0. 7. 2.]\n",
            "0.810077519379845\n",
            "Iteration:  390\n",
            "[8 9 2 ... 0 7 2] [8. 8. 2. ... 0. 7. 2.]\n",
            "0.8116279069767441\n",
            "Iteration:  400\n",
            "[8 9 2 ... 0 7 2] [8. 8. 2. ... 0. 7. 2.]\n",
            "0.8162790697674419\n",
            "Iteration:  410\n",
            "[8 9 2 ... 0 7 2] [8. 8. 2. ... 0. 7. 2.]\n",
            "0.8209302325581396\n",
            "Iteration:  420\n",
            "[8 9 2 ... 0 7 2] [8. 8. 2. ... 0. 7. 2.]\n",
            "0.8240310077519379\n",
            "Iteration:  430\n",
            "[8 9 2 ... 0 7 2] [8. 8. 2. ... 0. 7. 2.]\n",
            "0.8263565891472868\n",
            "Iteration:  440\n",
            "[8 9 2 ... 0 7 2] [8. 8. 2. ... 0. 7. 2.]\n",
            "0.8294573643410853\n",
            "Iteration:  450\n",
            "[8 9 2 ... 0 7 2] [8. 8. 2. ... 0. 7. 2.]\n",
            "0.8325581395348837\n",
            "Iteration:  460\n",
            "[8 9 2 ... 0 7 2] [8. 8. 2. ... 0. 7. 2.]\n",
            "0.8387596899224806\n",
            "Iteration:  470\n",
            "[8 9 2 ... 0 7 2] [8. 8. 2. ... 0. 7. 2.]\n",
            "0.8387596899224806\n",
            "Iteration:  480\n",
            "[8 9 2 ... 0 7 2] [8. 8. 2. ... 0. 7. 2.]\n",
            "0.8395348837209302\n",
            "Iteration:  490\n",
            "[8 9 2 ... 0 7 2] [8. 8. 2. ... 0. 7. 2.]\n",
            "0.8434108527131783\n",
            "Iteration:  500\n",
            "[8 9 2 ... 0 7 2] [8. 8. 2. ... 0. 7. 2.]\n",
            "0.8488372093023255\n",
            "Iteration:  510\n",
            "[8 9 2 ... 0 7 2] [8. 8. 2. ... 0. 7. 2.]\n",
            "0.8503875968992248\n",
            "Iteration:  520\n",
            "[8 9 2 ... 0 7 2] [8. 8. 2. ... 0. 7. 2.]\n",
            "0.8511627906976744\n",
            "Iteration:  530\n",
            "[8 9 2 ... 0 7 2] [8. 8. 2. ... 0. 7. 2.]\n",
            "0.8542635658914729\n",
            "Iteration:  540\n",
            "[8 9 2 ... 0 7 2] [8. 8. 2. ... 0. 7. 2.]\n",
            "0.8558139534883721\n",
            "Iteration:  550\n",
            "[8 9 2 ... 0 7 2] [8. 8. 2. ... 0. 7. 2.]\n",
            "0.8565891472868217\n",
            "Iteration:  560\n",
            "[8 9 2 ... 0 7 2] [8. 8. 2. ... 0. 7. 2.]\n",
            "0.8589147286821706\n",
            "Iteration:  570\n",
            "[8 9 2 ... 0 7 2] [8. 8. 2. ... 0. 7. 2.]\n",
            "0.8589147286821706\n",
            "Iteration:  580\n",
            "[8 9 2 ... 0 7 2] [8. 8. 2. ... 0. 7. 2.]\n",
            "0.8596899224806202\n",
            "Iteration:  590\n",
            "[8 9 2 ... 0 7 2] [8. 8. 2. ... 0. 7. 2.]\n",
            "0.8604651162790697\n",
            "Iteration:  600\n",
            "[8 9 2 ... 0 7 2] [8. 8. 2. ... 0. 7. 2.]\n",
            "0.862015503875969\n",
            "Iteration:  610\n",
            "[8 9 2 ... 0 7 2] [8. 8. 2. ... 0. 7. 2.]\n",
            "0.8627906976744186\n",
            "Iteration:  620\n",
            "[8 9 2 ... 0 7 2] [8. 8. 2. ... 0. 7. 2.]\n",
            "0.8658914728682171\n",
            "Iteration:  630\n",
            "[8 9 2 ... 0 7 2] [8. 8. 2. ... 0. 7. 2.]\n",
            "0.8674418604651163\n",
            "Iteration:  640\n",
            "[8 9 2 ... 0 7 2] [8. 8. 2. ... 0. 7. 2.]\n",
            "0.8697674418604651\n",
            "Iteration:  650\n",
            "[8 9 2 ... 0 7 2] [8. 8. 2. ... 0. 7. 2.]\n",
            "0.872093023255814\n",
            "Iteration:  660\n",
            "[8 9 2 ... 0 7 2] [8. 8. 2. ... 0. 7. 2.]\n",
            "0.8736434108527131\n",
            "Iteration:  670\n",
            "[8 9 2 ... 0 7 2] [8. 8. 2. ... 0. 7. 2.]\n",
            "0.8736434108527131\n",
            "Iteration:  680\n",
            "[8 9 2 ... 0 7 2] [8. 8. 2. ... 0. 7. 2.]\n",
            "0.8736434108527131\n",
            "Iteration:  690\n",
            "[8 9 2 ... 0 7 2] [8. 8. 2. ... 0. 7. 2.]\n",
            "0.8767441860465116\n",
            "Iteration:  700\n",
            "[8 9 2 ... 0 7 2] [8. 8. 2. ... 0. 7. 2.]\n",
            "0.8767441860465116\n",
            "Iteration:  710\n",
            "[8 9 2 ... 0 7 2] [8. 8. 2. ... 0. 7. 2.]\n",
            "0.8782945736434109\n",
            "Iteration:  720\n",
            "[8 9 2 ... 0 7 2] [8. 8. 2. ... 0. 7. 2.]\n",
            "0.8798449612403101\n",
            "Iteration:  730\n",
            "[8 9 2 ... 0 7 2] [8. 8. 2. ... 0. 7. 2.]\n",
            "0.8829457364341086\n",
            "Iteration:  740\n",
            "[8 9 2 ... 0 7 2] [8. 8. 2. ... 0. 7. 2.]\n",
            "0.8852713178294573\n",
            "Iteration:  750\n",
            "[8 9 2 ... 0 7 2] [8. 8. 2. ... 0. 7. 2.]\n",
            "0.8852713178294573\n",
            "Iteration:  760\n",
            "[8 9 2 ... 0 7 2] [8. 8. 2. ... 0. 7. 2.]\n",
            "0.8844961240310077\n",
            "Iteration:  770\n",
            "[8 9 2 ... 0 7 2] [8. 8. 2. ... 0. 7. 2.]\n",
            "0.8852713178294573\n",
            "Iteration:  780\n",
            "[8 9 2 ... 0 7 2] [8. 8. 2. ... 0. 7. 2.]\n",
            "0.8883720930232558\n",
            "Iteration:  790\n",
            "[8 9 2 ... 0 7 2] [8. 8. 2. ... 0. 7. 2.]\n",
            "0.8914728682170543\n",
            "Iteration:  800\n",
            "[8 9 2 ... 0 7 2] [8. 8. 2. ... 0. 7. 2.]\n",
            "0.8922480620155039\n",
            "Iteration:  810\n",
            "[8 9 2 ... 0 7 2] [8. 8. 2. ... 0. 7. 2.]\n",
            "0.8922480620155039\n",
            "Iteration:  820\n",
            "[8 9 2 ... 0 7 2] [8. 8. 2. ... 0. 7. 2.]\n",
            "0.8930232558139535\n",
            "Iteration:  830\n",
            "[8 9 2 ... 0 7 2] [8. 8. 2. ... 0. 7. 2.]\n",
            "0.8937984496124031\n",
            "Iteration:  840\n",
            "[8 9 2 ... 0 7 2] [8. 8. 2. ... 0. 7. 2.]\n",
            "0.8937984496124031\n",
            "Iteration:  850\n",
            "[8 8 2 ... 0 7 2] [8. 8. 2. ... 0. 7. 2.]\n",
            "0.896124031007752\n",
            "Iteration:  860\n",
            "[8 8 2 ... 0 7 2] [8. 8. 2. ... 0. 7. 2.]\n",
            "0.8992248062015504\n",
            "Iteration:  870\n",
            "[8 8 2 ... 0 7 2] [8. 8. 2. ... 0. 7. 2.]\n",
            "0.9\n",
            "Iteration:  880\n",
            "[8 8 2 ... 0 7 2] [8. 8. 2. ... 0. 7. 2.]\n",
            "0.9015503875968992\n",
            "Iteration:  890\n",
            "[8 8 2 ... 0 7 2] [8. 8. 2. ... 0. 7. 2.]\n",
            "0.9023255813953488\n",
            "Iteration:  900\n",
            "[8 8 2 ... 0 7 2] [8. 8. 2. ... 0. 7. 2.]\n",
            "0.9046511627906977\n",
            "Iteration:  910\n",
            "[8 8 2 ... 0 7 2] [8. 8. 2. ... 0. 7. 2.]\n",
            "0.9062015503875969\n",
            "Iteration:  920\n",
            "[8 8 2 ... 0 7 2] [8. 8. 2. ... 0. 7. 2.]\n",
            "0.9054263565891473\n",
            "Iteration:  930\n",
            "[8 8 2 ... 0 7 2] [8. 8. 2. ... 0. 7. 2.]\n",
            "0.9062015503875969\n",
            "Iteration:  940\n",
            "[8 8 2 ... 0 7 2] [8. 8. 2. ... 0. 7. 2.]\n",
            "0.9062015503875969\n",
            "Iteration:  950\n",
            "[8 8 2 ... 0 7 2] [8. 8. 2. ... 0. 7. 2.]\n",
            "0.9069767441860465\n",
            "Iteration:  960\n",
            "[8 8 2 ... 0 7 2] [8. 8. 2. ... 0. 7. 2.]\n",
            "0.9077519379844962\n",
            "Iteration:  970\n",
            "[8 8 2 ... 0 7 2] [8. 8. 2. ... 0. 7. 2.]\n",
            "0.9085271317829458\n",
            "Iteration:  980\n",
            "[8 8 2 ... 0 7 2] [8. 8. 2. ... 0. 7. 2.]\n",
            "0.9093023255813953\n",
            "Iteration:  990\n",
            "[8 8 2 ... 0 7 2] [8. 8. 2. ... 0. 7. 2.]\n",
            "0.9108527131782945\n"
          ]
        }
      ],
      "source": [
        "W1, b1, W2, b2 = gradient_descent(X_train, Y_train, 0.10, 1000)"
      ]
    },
    {
      "cell_type": "markdown",
      "metadata": {
        "papermill": {
          "duration": 0.03222,
          "end_time": "2020-11-24T15:34:33.980634",
          "exception": false,
          "start_time": "2020-11-24T15:34:33.948414",
          "status": "completed"
        },
        "tags": [],
        "id": "gZh_BO0tAqVm"
      },
      "source": [
        "~91% accuracy on training set."
      ]
    },
    {
      "cell_type": "code",
      "execution_count": 18,
      "metadata": {
        "execution": {
          "iopub.execute_input": "2020-11-24T15:34:34.058947Z",
          "iopub.status.busy": "2020-11-24T15:34:34.058192Z",
          "iopub.status.idle": "2020-11-24T15:34:34.061542Z",
          "shell.execute_reply": "2020-11-24T15:34:34.060921Z"
        },
        "papermill": {
          "duration": 0.048197,
          "end_time": "2020-11-24T15:34:34.061656",
          "exception": false,
          "start_time": "2020-11-24T15:34:34.013459",
          "status": "completed"
        },
        "tags": [],
        "id": "5oQei7ScAqVm"
      },
      "outputs": [],
      "source": [
        "def make_predictions(X, W1, b1, W2, b2):\n",
        "    _, _, _, A2 = forward_prop(W1, b1, W2, b2, X)\n",
        "    predictions = get_predictions(A2)\n",
        "    return predictions\n",
        "\n",
        "def test_prediction(index, W1, b1, W2, b2):\n",
        "    current_image = X_train[:, index, None]\n",
        "    prediction = make_predictions(X_train[:, index, None], W1, b1, W2, b2)\n",
        "    label = Y_train[index]\n",
        "    print(\"Prediction: \", prediction)\n",
        "    print(\"Label: \", label)\n",
        "\n",
        "    current_image = current_image.reshape((28, 28)) * 255\n",
        "    plt.gray()\n",
        "    plt.imshow(current_image, interpolation='nearest')\n",
        "    plt.show()"
      ]
    },
    {
      "cell_type": "markdown",
      "metadata": {
        "papermill": {
          "duration": 0.032382,
          "end_time": "2020-11-24T15:34:34.126664",
          "exception": false,
          "start_time": "2020-11-24T15:34:34.094282",
          "status": "completed"
        },
        "tags": [],
        "id": "JXdv4-9PAqVm"
      },
      "source": [
        "Let's look at a couple of examples:"
      ]
    },
    {
      "cell_type": "code",
      "execution_count": 19,
      "metadata": {
        "execution": {
          "iopub.execute_input": "2020-11-24T15:34:34.198764Z",
          "iopub.status.busy": "2020-11-24T15:34:34.197926Z",
          "iopub.status.idle": "2020-11-24T15:34:34.858256Z",
          "shell.execute_reply": "2020-11-24T15:34:34.857536Z"
        },
        "papermill": {
          "duration": 0.699008,
          "end_time": "2020-11-24T15:34:34.858375",
          "exception": false,
          "start_time": "2020-11-24T15:34:34.159367",
          "status": "completed"
        },
        "tags": [],
        "colab": {
          "base_uri": "https://localhost:8080/",
          "height": 1000
        },
        "id": "XgXLpn7bAqVm",
        "outputId": "0ba67f67-af30-45c5-bada-789f3605b64b"
      },
      "outputs": [
        {
          "output_type": "stream",
          "name": "stdout",
          "text": [
            "Prediction:  [8]\n",
            "Label:  8.0\n"
          ]
        },
        {
          "output_type": "display_data",
          "data": {
            "text/plain": [
              "<Figure size 640x480 with 1 Axes>"
            ],
            "image/png": "[encoded data removed]"
          },
          "metadata": {}
        },
        {
          "output_type": "stream",
          "name": "stdout",
          "text": [
            "Prediction:  [8]\n",
            "Label:  8.0\n"
          ]
        },
        {
          "output_type": "display_data",
          "data": {
            "text/plain": [
              "<Figure size 640x480 with 1 Axes>"
            ],
            "image/png": "[encoded data removed]"
          },
          "metadata": {}
        },
        {
          "output_type": "stream",
          "name": "stdout",
          "text": [
            "Prediction:  [2]\n",
            "Label:  2.0\n"
          ]
        },
        {
          "output_type": "display_data",
          "data": {
            "text/plain": [
              "<Figure size 640x480 with 1 Axes>"
            ],
            "image/png": "[encoded data removed]"
          },
          "metadata": {}
        },
        {
          "output_type": "stream",
          "name": "stdout",
          "text": [
            "Prediction:  [4]\n",
            "Label:  4.0\n"
          ]
        },
        {
          "output_type": "display_data",
          "data": {
            "text/plain": [
              "<Figure size 640x480 with 1 Axes>"
            ],
            "image/png": "[encoded data removed]"
          },
          "metadata": {}
        }
      ],
      "source": [
        "test_prediction(0, W1, b1, W2, b2)\n",
        "test_prediction(1, W1, b1, W2, b2)\n",
        "test_prediction(2, W1, b1, W2, b2)\n",
        "test_prediction(3, W1, b1, W2, b2)"
      ]
    },
    {
      "cell_type": "markdown",
      "metadata": {
        "papermill": {
          "duration": 0.037333,
          "end_time": "2020-11-24T15:34:34.933186",
          "exception": false,
          "start_time": "2020-11-24T15:34:34.895853",
          "status": "completed"
        },
        "tags": [],
        "id": "JoZNk8M2AqVm"
      },
      "source": [
        "Finally, let's find the accuracy on the dev set:"
      ]
    },
    {
      "cell_type": "code",
      "execution_count": 22,
      "metadata": {
        "execution": {
          "iopub.execute_input": "2020-11-24T15:34:35.013161Z",
          "iopub.status.busy": "2020-11-24T15:34:35.012371Z",
          "iopub.status.idle": "2020-11-24T15:34:35.033284Z",
          "shell.execute_reply": "2020-11-24T15:34:35.032394Z"
        },
        "papermill": {
          "duration": 0.062985,
          "end_time": "2020-11-24T15:34:35.033457",
          "exception": false,
          "start_time": "2020-11-24T15:34:34.970472",
          "status": "completed"
        },
        "tags": [],
        "colab": {
          "base_uri": "https://localhost:8080/"
        },
        "id": "a_xTWbLXAqVm",
        "outputId": "f186a799-2878-411b-8c0a-bcde3dea7c33"
      },
      "outputs": [
        {
          "output_type": "stream",
          "name": "stdout",
          "text": [
            "[1 3 3 6 3 7 7 8 1 4 6 1 3 8 2 9 8 6 5 1 0 2 7 3 1 1 8 2 5 4 2 3 6 0 9 6 0\n",
            " 1 6 6 3 4 7 8 8 1 3 2 6 0 0 7 8 5 0 2 7 3 4 9 9 9 4 1 1 3 6 7 5 7 1 3 1 4\n",
            " 2 0 6 5 7 0 3 0 9 4 2 1 1 0 0 9 0 2 1 9 1 7 2 6 4 0 3 0 1 9 0 2 6 0 2 5 4\n",
            " 9 3 0 4 0 8 4 4 7 0 2 8 4 2 2 9 6 3 3 0 6 3 5 1 3 6 9 8 2 6 3 4 4 3 4 5 6\n",
            " 9 1 4 4 8 9 2 6 3 1 6 1 3 2 7 0 5 5 6 5 9 8 8 2 5 6 2 4 0 1 7 7 6 1 9 0 0\n",
            " 3 1 7 4 0 1 1 1 7 1 3 9 3 1 8 2 1 1 6 9 5 6 1 2 3 7 0 5 4 2 6 5 4 7 6 3 4\n",
            " 1 9 2 8 9 4 1 5 6 9 9 0 2 0 8 4 0 0 1 7 3 6 6 6 3 2 1 2 5 3 8 1 0 9 3 9 2\n",
            " 5 5 6 8 5 1 4 6 3 1 4 0 5 8 0 5 9 4 3 8 4 0 7 1 4 9 8 4 7 0 6 9 4 2 9 6 6\n",
            " 1 7 1 7 8 0 3 4 7 2 7 7 2 0 1 3 9 2 5 6 6 6 2 2 6 9 4 0 7 8 1 2 4 7 8 4 2\n",
            " 8 9 3 4 4 6 6 6 1 2 7 4 2 5 8 1 2 4 9 2 2 9 1 3 9 0 3 0 1 1 3 0 3 8 7 9 0\n",
            " 6 0 4 9 0 1 5 0 8 7 2 7 2 5 0 1 0 5 5 2 3 3 9 5 0 2 9 4 4 1 4 1 4 9 9 9 3\n",
            " 2 5 4 2 0 1 9 9 2 3 1 6 2 4 5 2 6 8 6 6 1 6 5 3 9 5 8 4 5 1 5 7 2 9 6 5 2\n",
            " 2 1 6 2 1 4 0 6 5 7 7 0 2 3 1 1 6 0 6 4 4 5 8 4 0 9 7 5 9 4 6 7 6 0 8 0 3\n",
            " 5 5 8 7 7 7 2 5 6 1 3 6 1 8 1 0 8 1 7 3 2 4 1 2 2 4 7 8 8 8 1 3 5 7 6 1 6\n",
            " 7 0 7 6 5 8 0 4 1 4 5 1 9 0 6 8 8 4 7 0 3 5 9 1 4 6 3 8 3 8 0 5 7 4 0 5 4\n",
            " 1 9 9 3 1 7 9 2 6 9 4 1 5 5 1 4 3 1 0 6 1 0 8 2 3 9 3 4 9 6 1 5 7 7 5 0 4\n",
            " 5 1 8 3 9 9 6 3 7 9 6 2 3 1 4 4 0 6 3 3 3 3 0 0 1 2 8 5 8 2 4 6 9 5 3 3 5\n",
            " 4 0 8 6 5 5 0 0 1 3 1 1 6 1 4 0 1 7 2 4 4 8 4 9 1 5 6 5 0 8 5 5 6 7 6 3 5\n",
            " 0 5 5 8 7 7 7 4 8 4 5 4 2 7 9 3 1 1 2 1 0 5 1 3 7 1 6 5 1 0 3 0 5 8 2 7 0\n",
            " 1 0 6 9 2 5 9 2 7 8 2 7 4 5 7 2 5 9 1 3 0 7 9 0 4 0 3 6 9 0 6 1 8 1 2 1 0\n",
            " 9 6 8 8 7 2 3 9 2 4 0 7 9 2 8 3 6 1 7 0 0 4 2 2 7 3 0 3 9 8 1 1 6 0 4 6 9\n",
            " 3 2 0 3 5 1 0 2 8 7 3 9 1 4 8 7 3 9 9 5 7 2 4 4 2 7 2 6 0 1 3 6 0 2 6 9 5\n",
            " 0 0 4 0 4 3 0 0 4 9 1 2 1 2 9 1 5 3 9 9 4 4 3 1 1 5 4 0 2 3 1 2 4 4 1 2 7\n",
            " 3 2 2 6 0 1 1 1 2 9 3 4 4 8 2 2 1 8 5 8 0 5 5 0 5 4 5 0 3 7 0 8 9 6 5 6 3\n",
            " 1 9 2 6 8 2 1 1 0 5 2 9 8 5 4 6 0 1 8 1 7 2 2 1 2 0 4 4 2 0 8 8 0 1 0 8 6\n",
            " 2 1 4 7 4 4 0 0 7 5 1 4 4 1 1 6 8 1 6 0 3 9 5 0 8 6 3 8 3 6 0 4 4 3 2 9 4\n",
            " 5 5 3 4 5 0 7 2 8 8 7 4 4 1 7 0 2 2 4 9 9 9 7 4 7 2 1 7 7 4 2 4 1 3 8 5 7\n",
            " 9] [1. 8. 3. 6. 3. 9. 0. 8. 1. 7. 6. 1. 3. 8. 2. 4. 4. 6. 5. 5. 0. 2. 7. 3.\n",
            " 1. 4. 8. 2. 5. 4. 2. 3. 6. 0. 9. 6. 0. 1. 6. 6. 3. 4. 7. 8. 8. 1. 3. 2.\n",
            " 2. 0. 0. 9. 8. 5. 0. 2. 7. 3. 9. 9. 9. 9. 2. 1. 1. 3. 6. 7. 5. 7. 1. 3.\n",
            " 1. 4. 2. 0. 6. 5. 7. 0. 3. 0. 9. 4. 2. 1. 1. 0. 0. 9. 0. 2. 1. 9. 1. 7.\n",
            " 2. 6. 4. 0. 3. 0. 1. 9. 0. 2. 5. 0. 2. 5. 6. 9. 3. 0. 9. 0. 8. 4. 4. 7.\n",
            " 0. 2. 8. 4. 2. 2. 9. 6. 3. 2. 0. 6. 3. 5. 1. 3. 6. 9. 8. 2. 6. 3. 4. 4.\n",
            " 3. 4. 5. 6. 9. 1. 8. 4. 8. 8. 8. 6. 3. 6. 6. 1. 8. 2. 7. 2. 5. 3. 6. 5.\n",
            " 3. 8. 8. 5. 5. 6. 2. 4. 0. 1. 7. 7. 6. 1. 8. 0. 0. 7. 3. 7. 4. 0. 1. 2.\n",
            " 1. 7. 1. 3. 9. 8. 1. 8. 2. 1. 1. 6. 9. 5. 6. 1. 2. 3. 7. 0. 5. 4. 2. 6.\n",
            " 5. 9. 7. 6. 3. 4. 1. 9. 2. 5. 9. 9. 1. 5. 6. 9. 9. 0. 2. 0. 2. 4. 7. 0.\n",
            " 1. 7. 3. 6. 6. 6. 3. 2. 1. 2. 5. 5. 8. 5. 0. 9. 3. 9. 2. 6. 8. 6. 8. 5.\n",
            " 1. 4. 6. 3. 1. 4. 0. 5. 8. 0. 0. 9. 4. 3. 8. 4. 5. 7. 1. 4. 9. 8. 4. 7.\n",
            " 5. 6. 9. 4. 2. 9. 6. 6. 5. 7. 1. 7. 8. 0. 9. 4. 7. 2. 7. 4. 2. 0. 1. 3.\n",
            " 9. 7. 5. 5. 6. 6. 3. 2. 6. 9. 4. 5. 7. 8. 8. 2. 4. 7. 8. 4. 2. 6. 7. 3.\n",
            " 4. 4. 6. 6. 6. 1. 7. 7. 4. 2. 6. 8. 1. 2. 4. 9. 2. 2. 9. 8. 5. 9. 0. 8.\n",
            " 0. 5. 1. 3. 0. 8. 8. 9. 9. 0. 6. 0. 4. 9. 0. 1. 5. 0. 5. 7. 2. 7. 2. 5.\n",
            " 0. 1. 0. 5. 5. 2. 3. 3. 3. 5. 0. 2. 9. 7. 4. 1. 4. 1. 4. 9. 9. 9. 3. 1.\n",
            " 5. 9. 2. 0. 1. 4. 9. 2. 3. 1. 6. 2. 4. 5. 5. 6. 5. 6. 6. 1. 6. 5. 3. 9.\n",
            " 5. 8. 4. 5. 1. 5. 9. 3. 9. 6. 5. 2. 2. 1. 6. 2. 1. 4. 7. 5. 5. 3. 7. 0.\n",
            " 2. 3. 1. 8. 6. 0. 6. 4. 4. 3. 8. 4. 0. 9. 7. 5. 9. 4. 6. 9. 6. 0. 8. 0.\n",
            " 3. 8. 8. 2. 7. 7. 7. 2. 5. 6. 1. 9. 2. 1. 8. 2. 0. 8. 1. 7. 3. 2. 4. 1.\n",
            " 2. 2. 4. 7. 8. 3. 8. 5. 3. 4. 7. 6. 1. 6. 3. 0. 7. 6. 5. 8. 7. 4. 1. 4.\n",
            " 0. 1. 9. 0. 6. 8. 9. 4. 7. 0. 3. 8. 9. 1. 6. 2. 3. 9. 5. 8. 0. 5. 7. 4.\n",
            " 9. 3. 4. 5. 9. 4. 3. 1. 9. 9. 2. 6. 9. 4. 2. 5. 5. 1. 4. 3. 1. 0. 6. 5.\n",
            " 0. 8. 2. 3. 9. 3. 4. 9. 4. 1. 5. 7. 7. 5. 0. 4. 3. 1. 8. 3. 9. 9. 6. 3.\n",
            " 7. 9. 6. 1. 3. 1. 4. 4. 0. 6. 3. 3. 3. 3. 0. 0. 1. 2. 8. 5. 8. 2. 4. 6.\n",
            " 9. 5. 3. 3. 5. 9. 3. 8. 6. 5. 5. 0. 0. 1. 3. 3. 1. 6. 5. 4. 7. 1. 7. 2.\n",
            " 4. 4. 8. 4. 9. 1. 5. 0. 8. 0. 8. 5. 5. 6. 9. 6. 3. 5. 0. 5. 5. 8. 7. 8.\n",
            " 7. 4. 8. 4. 2. 4. 8. 7. 9. 9. 1. 1. 2. 1. 0. 5. 5. 3. 7. 1. 6. 0. 1. 0.\n",
            " 8. 0. 0. 5. 2. 7. 0. 1. 0. 6. 9. 9. 5. 9. 5. 7. 8. 2. 7. 4. 5. 7. 2. 5.\n",
            " 9. 1. 3. 0. 9. 9. 0. 4. 0. 8. 6. 9. 0. 6. 1. 1. 1. 2. 1. 0. 9. 6. 8. 8.\n",
            " 7. 2. 3. 9. 2. 4. 0. 7. 9. 2. 8. 3. 6. 8. 7. 0. 0. 4. 2. 1. 7. 3. 6. 3.\n",
            " 9. 8. 5. 3. 6. 0. 4. 6. 9. 3. 2. 0. 3. 5. 1. 5. 2. 8. 7. 9. 9. 1. 4. 8.\n",
            " 7. 3. 9. 9. 3. 7. 2. 6. 9. 2. 7. 2. 6. 6. 1. 3. 2. 0. 2. 6. 9. 5. 0. 0.\n",
            " 4. 0. 4. 8. 0. 0. 4. 9. 1. 2. 1. 2. 9. 1. 5. 3. 9. 4. 4. 9. 3. 1. 1. 5.\n",
            " 4. 5. 2. 3. 1. 2. 6. 4. 1. 2. 7. 3. 2. 2. 6. 0. 5. 1. 1. 2. 9. 3. 4. 9.\n",
            " 8. 0. 2. 3. 8. 5. 8. 0. 5. 5. 0. 7. 9. 5. 0. 3. 7. 6. 8. 4. 6. 5. 6. 3.\n",
            " 1. 9. 7. 6. 8. 2. 2. 1. 0. 5. 2. 9. 9. 5. 4. 6. 0. 1. 8. 1. 7. 2. 2. 1.\n",
            " 2. 0. 4. 4. 2. 0. 8. 5. 0. 1. 0. 8. 6. 2. 1. 4. 7. 4. 9. 0. 0. 7. 5. 1.\n",
            " 4. 9. 1. 1. 6. 8. 1. 6. 0. 3. 9. 5. 0. 8. 6. 3. 8. 9. 6. 0. 4. 2. 5. 7.\n",
            " 4. 4. 5. 5. 3. 4. 5. 0. 7. 2. 8. 5. 7. 4. 4. 1. 7. 0. 2. 2. 4. 9. 9. 7.\n",
            " 7. 4. 7. 2. 1. 7. 9. 4. 2. 9. 9. 3. 8. 5. 9. 9.]\n"
          ]
        },
        {
          "output_type": "execute_result",
          "data": {
            "text/plain": [
              "0.832"
            ]
          },
          "metadata": {},
          "execution_count": 22
        }
      ],
      "source": [
        "dev_predictions = make_predictions(X_dev, W1, b1, W2, b2)\n",
        "get_accuracy(dev_predictions, Y_dev)"
      ]
    }
  ],
  "metadata": {
    "kernelspec": {
      "display_name": "Python 3",
      "language": "python",
      "name": "python3"
    },
    "language_info": {
      "codemirror_mode": {
        "name": "ipython",
        "version": 3
      },
      "file_extension": ".py",
      "mimetype": "text/x-python",
      "name": "python",
      "nbconvert_exporter": "python",
      "pygments_lexer": "ipython3",
      "version": "3.7.6"
    },
    "papermill": {
      "duration": 55.320944,
      "end_time": "2020-11-24T15:34:35.258832",
      "environment_variables": {},
      "exception": null,
      "input_path": "__notebook__.ipynb",
      "output_path": "__notebook__.ipynb",
      "parameters": {},
      "start_time": "2020-11-24T15:33:39.937888",
      "version": "2.1.0"
    },
    "colab": {
      "provenance": []
    }
  },
  "nbformat": 4,
  "nbformat_minor": 0
}
